{
 "cells": [
  {
   "cell_type": "markdown",
   "id": "38c39107",
   "metadata": {},
   "source": [
    "# Given an array A of n positive numbers. The task is to find the first Equilibium Point in the array. \n",
    "Equilibrium Point in an array is a position such that the sum of elements before it is equal to the sum of elements after it.\n",
    "\n",
    "Note: Retun the index of Equilibrium point. (1-based index)\n",
    "\n",
    "Example 1:"
   ]
  },
  {
   "cell_type": "markdown",
   "id": "294be48e",
   "metadata": {},
   "source": [
    "n = 5 \n",
    "\n",
    "A[] = {1,3,5,2,2} \n",
    "\n",
    "Output: 3 \n",
    "\n",
    "Explanation: For second test case \n",
    "equilibrium point is at position 3 \n",
    "as elements before it (1+3) = \n",
    "elements after it (2+2)."
   ]
  },
  {
   "cell_type": "markdown",
   "id": "0134fdfa",
   "metadata": {},
   "source": [
    "n = 1\n",
    "\n",
    "A[] = {1}\n",
    "\n",
    "Output: 1\n",
    "\n",
    "Explanation:\n",
    "Since its the only element hence\n",
    "its the only equilibrium point."
   ]
  },
  {
   "cell_type": "code",
   "execution_count": 1,
   "id": "1c6c84d2",
   "metadata": {},
   "outputs": [
    {
     "data": {
      "text/plain": [
       "3"
      ]
     },
     "execution_count": 1,
     "metadata": {},
     "output_type": "execute_result"
    }
   ],
   "source": [
    "class Solution:\n",
    "    #Function to find equilibrium point in the array.\n",
    "    def equilibriumPoint(self,A, N):\n",
    "        # Your code here\n",
    "        sum=0\n",
    "        for i in range(N):\n",
    "            sum+=A[i]\n",
    "        cursum=0\n",
    "        for i in range(N):\n",
    "            sum-=A[i]\n",
    "            if cursum==sum:\n",
    "                return i+1\n",
    "            cursum+=A[i]\n",
    "        return -1\n",
    "A=[1,3,5,2,2]\n",
    "N=len(A)\n",
    "x=Solution()\n",
    "x.equilibriumPoint(A,N)"
   ]
  },
  {
   "cell_type": "code",
   "execution_count": null,
   "id": "7e3a6b94",
   "metadata": {},
   "outputs": [],
   "source": []
  }
 ],
 "metadata": {
  "kernelspec": {
   "display_name": "Python 3 (ipykernel)",
   "language": "python",
   "name": "python3"
  },
  "language_info": {
   "codemirror_mode": {
    "name": "ipython",
    "version": 3
   },
   "file_extension": ".py",
   "mimetype": "text/x-python",
   "name": "python",
   "nbconvert_exporter": "python",
   "pygments_lexer": "ipython3",
   "version": "3.9.12"
  }
 },
 "nbformat": 4,
 "nbformat_minor": 5
}
