{
 "cells": [
  {
   "cell_type": "markdown",
   "id": "879609fc",
   "metadata": {},
   "source": [
    "# Given a list of non negative integers, arrange them in such a manner that they form the largest number possible.The result is going to be very large, hence return the result in the form of a string.\n",
    "\n"
   ]
  },
  {
   "cell_type": "markdown",
   "id": "98814183",
   "metadata": {},
   "source": [
    "N = 5\n",
    "\n",
    "Arr[] = {3, 30, 34, 5, 9}\n",
    "\n",
    "Output: 9534330\n",
    "\n",
    "Explanation: Given numbers are {3, 30, 34,\n",
    "5, 9}, the arrangement 9534330 gives the\n",
    "largest value."
   ]
  },
  {
   "cell_type": "code",
   "execution_count": 3,
   "id": "db8bffa4",
   "metadata": {},
   "outputs": [
    {
     "data": {
      "text/plain": [
       "'9534330'"
      ]
     },
     "execution_count": 3,
     "metadata": {},
     "output_type": "execute_result"
    }
   ],
   "source": [
    "def largestNumber(array):\n",
    "\t#If there is only one element in the list, the element itself is the largest element.\n",
    "\t#Below if condition checks the same.\n",
    "\tif len(array)==1:\n",
    "\t\treturn str(array[0])\n",
    "\t#Below lines are code are used to find the largest element possible.\n",
    "\t#First, we convert a list into a string array that is suitable for concatenation\n",
    "\tfor i in range(len(array)):\n",
    "\t\tarray[i]=str(array[i])\n",
    "\t# [54,546,548,60]=>['54','546','548','60']\n",
    "\t#Second, we find the largest element by swapping technique.\n",
    "\tfor i in range(len(array)):\n",
    "\t\tfor j in range(1+i,len(array)):\n",
    "\t\t\tif array[j]+array[i]>array[i]+array[j]:\n",
    "\t\t\t\tarray[i],array[j]=array[j],array[i]\n",
    "\t#['60', '548', '546', '54']\n",
    "\t#Refer JOIN function in Python\n",
    "\tresult=''.join(array)\n",
    "\t#Edge Case: If all elements are 0, answer must be 0\n",
    "\tif(result=='0'*len(result)):\n",
    "\t\treturn '0'\n",
    "\telse:\n",
    "\t\treturn result\n",
    "\t\t\n",
    "\t\t\n",
    "\n",
    "array=[3, 30, 34, 5, 9]\n",
    "largestNumber(array)"
   ]
  },
  {
   "cell_type": "code",
   "execution_count": null,
   "id": "db831c86",
   "metadata": {},
   "outputs": [],
   "source": []
  },
  {
   "cell_type": "code",
   "execution_count": null,
   "id": "2f908910",
   "metadata": {},
   "outputs": [],
   "source": []
  }
 ],
 "metadata": {
  "kernelspec": {
   "display_name": "Python 3 (ipykernel)",
   "language": "python",
   "name": "python3"
  },
  "language_info": {
   "codemirror_mode": {
    "name": "ipython",
    "version": 3
   },
   "file_extension": ".py",
   "mimetype": "text/x-python",
   "name": "python",
   "nbconvert_exporter": "python",
   "pygments_lexer": "ipython3",
   "version": "3.9.12"
  }
 },
 "nbformat": 4,
 "nbformat_minor": 5
}
