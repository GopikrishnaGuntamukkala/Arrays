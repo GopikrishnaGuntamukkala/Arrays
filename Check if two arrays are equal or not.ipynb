{
 "cells": [
  {
   "cell_type": "markdown",
   "id": "65e709df",
   "metadata": {},
   "source": [
    "N = 5\n",
    "\n",
    "A[] = {1,2,5,4,0}\n",
    "\n",
    "B[] = {2,4,5,0,1}\n",
    "\n",
    "Output: 1\n",
    "\n",
    "Explanation: Both the array can be \n",
    "rearranged to {0,1,2,4,5}"
   ]
  },
  {
   "cell_type": "code",
   "execution_count": 1,
   "id": "5faf54c7",
   "metadata": {},
   "outputs": [
    {
     "data": {
      "text/plain": [
       "1"
      ]
     },
     "execution_count": 1,
     "metadata": {},
     "output_type": "execute_result"
    }
   ],
   "source": [
    "\n",
    "class Solution:\n",
    "    #Function to check if two arrays are equal or not.\n",
    "    def check(self,A,B,N):\n",
    "        \n",
    "        #return: True or False\n",
    "        A.sort()\n",
    "        B.sort()\n",
    "        if A!=B:\n",
    "            return 0\n",
    "        return 1\n",
    "A=[1,2,5,4,0]\n",
    "B=[2,4,5,0,1]\n",
    "N=5\n",
    "obj=Solution()\n",
    "obj.check(A,B,N)"
   ]
  },
  {
   "cell_type": "code",
   "execution_count": null,
   "id": "8c3557e1",
   "metadata": {},
   "outputs": [],
   "source": []
  }
 ],
 "metadata": {
  "kernelspec": {
   "display_name": "Python 3 (ipykernel)",
   "language": "python",
   "name": "python3"
  },
  "language_info": {
   "codemirror_mode": {
    "name": "ipython",
    "version": 3
   },
   "file_extension": ".py",
   "mimetype": "text/x-python",
   "name": "python",
   "nbconvert_exporter": "python",
   "pygments_lexer": "ipython3",
   "version": "3.9.12"
  }
 },
 "nbformat": 4,
 "nbformat_minor": 5
}
