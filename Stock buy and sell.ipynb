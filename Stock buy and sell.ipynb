{
 "cells": [
  {
   "cell_type": "markdown",
   "id": "ccc40d92",
   "metadata": {},
   "source": [
    "# The cost of stock on each day is given in an array A[] of size N. Find all the days on which you buy and sell the stock so that in between those days your profit is maximum.\n",
    "Note: There may be multiple possible solutions. Return any one of them. Any correct solution will result in an output of 1, whereas wrong solutions will result in an output of 0.\n"
   ]
  },
  {
   "cell_type": "markdown",
   "id": "e83f76a7",
   "metadata": {},
   "source": [
    "N = 7\n",
    "\n",
    "A[] = {100,180,260,310,40,535,695}\n",
    "\n",
    "Output:\n",
    "1\n",
    "\n",
    "Explanation:\n",
    "One possible solution is (0 3) (4 6)\n",
    "We can buy stock on day 0,\n",
    "and sell it on 3rd day, which will \n",
    "give us maximum profit. Now, we buy \n",
    "stock on day 4 and sell it on day 6.\n",
    "\n",
    "N = 5\n",
    "\n",
    "A[] = {4,2,2,2,4}\n",
    "\n",
    "Output:\n",
    "1\n",
    "\n",
    "Explanation:\n",
    "There are multiple possible solutions.\n",
    "one of them is (3 4)\n",
    "\n",
    "We can buy stock on day 3,\n",
    "and sell it on 4th day, which will \n",
    "give us maximum profit."
   ]
  },
  {
   "cell_type": "code",
   "execution_count": 10,
   "id": "724445d8",
   "metadata": {},
   "outputs": [
    {
     "name": "stdout",
     "output_type": "stream",
     "text": [
      "[[1, 2], [2, 3], [3, 4]]\n"
     ]
    },
    {
     "data": {
      "text/plain": [
       "3"
      ]
     },
     "execution_count": 10,
     "metadata": {},
     "output_type": "execute_result"
    }
   ],
   "source": [
    "class Solution:\n",
    "    #Function to find the days of buying and selling stock for max profit.\n",
    "    def stockBuySell(self, A, n):\n",
    "        #code here\n",
    "        res = []\n",
    "        min_index = 0\n",
    "        min1 = A[0]\n",
    "        \n",
    "        for i in range(1,len(A)):\n",
    "            if A[i] < min1:\n",
    "                min1 = A[i]\n",
    "                min_index = i\n",
    "            else:\n",
    "                res.append([min_index,i])\n",
    "                min1 = A[i]\n",
    "                min_index = i\n",
    "        #print(res)\n",
    "        return(len(res))\n",
    "A=[4,2,2,2,4]\n",
    "n=5\n",
    "x=Solution()\n",
    "x.stockBuySell(A, n)"
   ]
  },
  {
   "cell_type": "code",
   "execution_count": null,
   "id": "68655eb3",
   "metadata": {},
   "outputs": [],
   "source": []
  },
  {
   "cell_type": "code",
   "execution_count": null,
   "id": "51383b72",
   "metadata": {},
   "outputs": [],
   "source": []
  }
 ],
 "metadata": {
  "kernelspec": {
   "display_name": "Python 3 (ipykernel)",
   "language": "python",
   "name": "python3"
  },
  "language_info": {
   "codemirror_mode": {
    "name": "ipython",
    "version": 3
   },
   "file_extension": ".py",
   "mimetype": "text/x-python",
   "name": "python",
   "nbconvert_exporter": "python",
   "pygments_lexer": "ipython3",
   "version": "3.9.12"
  }
 },
 "nbformat": 4,
 "nbformat_minor": 5
}
