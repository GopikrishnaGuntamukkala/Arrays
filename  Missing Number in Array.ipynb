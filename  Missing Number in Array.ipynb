{
 "cells": [
  {
   "cell_type": "markdown",
   "id": "cb31b51c",
   "metadata": {},
   "source": [
    "# Given an array arr[] of size N-1with integers in the range of [1, N], the task is to find the missing number from the first N integers.\n",
    "\n",
    "Note: There are no duplicates in the list."
   ]
  },
  {
   "cell_type": "code",
   "execution_count": 12,
   "id": "89b2f006",
   "metadata": {},
   "outputs": [
    {
     "name": "stdout",
     "output_type": "stream",
     "text": [
      "the missing number in an array is 4\n"
     ]
    }
   ],
   "source": [
    "def missing(arr,n):\n",
    "    sum=0\n",
    "    total= (n+2)*(n+1)/2\n",
    "    for i in arr:\n",
    "        sum += i\n",
    "    ans=int(total)-sum\n",
    "    return ans\n",
    "arr=[1,2,3,5,6]\n",
    "n=len(arr)\n",
    "\n",
    "print(\"the missing number in an array is \" + str(missing(arr,n)))"
   ]
  },
  {
   "cell_type": "code",
   "execution_count": null,
   "id": "2fdee215",
   "metadata": {},
   "outputs": [],
   "source": []
  }
 ],
 "metadata": {
  "kernelspec": {
   "display_name": "Python 3 (ipykernel)",
   "language": "python",
   "name": "python3"
  },
  "language_info": {
   "codemirror_mode": {
    "name": "ipython",
    "version": 3
   },
   "file_extension": ".py",
   "mimetype": "text/x-python",
   "name": "python",
   "nbconvert_exporter": "python",
   "pygments_lexer": "ipython3",
   "version": "3.9.12"
  }
 },
 "nbformat": 4,
 "nbformat_minor": 5
}
