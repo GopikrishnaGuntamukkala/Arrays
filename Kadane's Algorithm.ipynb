{
 "cells": [
  {
   "cell_type": "markdown",
   "id": "9af04642",
   "metadata": {},
   "source": [
    "# Given an array Arr[] of N integers. Find the contiguous sub-array(containing at least one number) which has the maximum sum and return its sum."
   ]
  },
  {
   "cell_type": "markdown",
   "id": "79aab313",
   "metadata": {},
   "source": [
    "N = 5\n",
    "\n",
    "Arr[] = {1,2,3,-2,5}\n",
    "\n",
    "Output:\n",
    "9\n",
    "\n",
    "Explanation:\n",
    "\n",
    "Max subarray sum is 9\n",
    "of elements (1, 2, 3, -2, 5) which \n",
    "is a contiguous subarray."
   ]
  },
  {
   "cell_type": "code",
   "execution_count": 1,
   "id": "4e8b06d7",
   "metadata": {},
   "outputs": [
    {
     "data": {
      "text/plain": [
       "9"
      ]
     },
     "execution_count": 1,
     "metadata": {},
     "output_type": "execute_result"
    }
   ],
   "source": [
    "\n",
    "class Solution:\n",
    "    ##Complete this function\n",
    "    #Function to find the sum of contiguous subarray with maximum sum.\n",
    "    def maxSubArraySum(self,arr,N):\n",
    "        ##Your code here\n",
    "        maxsum=arr[0]\n",
    "        sum=0\n",
    "        for i in range(N):\n",
    "            sum+=arr[i]\n",
    "            maxsum=max(sum,maxsum)\n",
    "            if sum<0:\n",
    "                sum=0\n",
    "        return maxsum\n",
    "arr=[1, 2, 3, -2, 5]\n",
    "N=len(arr)\n",
    "x=Solution()\n",
    "x.maxSubArraySum(arr, N)"
   ]
  },
  {
   "cell_type": "code",
   "execution_count": null,
   "id": "ae4205ac",
   "metadata": {},
   "outputs": [],
   "source": []
  }
 ],
 "metadata": {
  "kernelspec": {
   "display_name": "Python 3 (ipykernel)",
   "language": "python",
   "name": "python3"
  },
  "language_info": {
   "codemirror_mode": {
    "name": "ipython",
    "version": 3
   },
   "file_extension": ".py",
   "mimetype": "text/x-python",
   "name": "python",
   "nbconvert_exporter": "python",
   "pygments_lexer": "ipython3",
   "version": "3.9.12"
  }
 },
 "nbformat": 4,
 "nbformat_minor": 5
}
