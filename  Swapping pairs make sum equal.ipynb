{
 "cells": [
  {
   "cell_type": "markdown",
   "id": "396f8c1b",
   "metadata": {},
   "source": [
    "# Given two arrays of integers A[] and B[] of size N and M, the task is to check if a pair of values (one value from each array) exists such that swapping the elements of the pair will make the sum of two arrays equal.\n",
    "\n",
    " "
   ]
  },
  {
   "cell_type": "markdown",
   "id": "601c70bf",
   "metadata": {},
   "source": [
    "Input: N = 6, M = 4\n",
    "\n",
    "A[] = {4, 1, 2, 1, 1, 2}\n",
    "\n",
    "B[] = (3, 6, 3, 3)\n",
    "\n",
    "Output: 1\n",
    "\n",
    "Explanation: Sum of elements in A[] = 11\n",
    "\n",
    "Sum of elements in B[] = 15, To get same \n",
    "\n",
    "sum from both arrays, we can swap following \n",
    "values: 1 from A[] and 3 from B[]"
   ]
  },
  {
   "cell_type": "code",
   "execution_count": 1,
   "id": "9fa2e8a1",
   "metadata": {},
   "outputs": [
    {
     "data": {
      "text/plain": [
       "1"
      ]
     },
     "execution_count": 1,
     "metadata": {},
     "output_type": "execute_result"
    }
   ],
   "source": [
    "class Solution:\n",
    "    def findSwapValues(self,a, n, b, m):\n",
    "        # Your code goes here\n",
    "        a = sorted(a)\n",
    "        b = sorted(b)\n",
    "       \n",
    "        i = n - 1\n",
    "        j = m -1\n",
    "       \n",
    "        sum1 = sum(a)\n",
    "        sum2 = sum(b)\n",
    "       \n",
    "       \n",
    "        while i > -1 and j > -1:\n",
    "            s1 = sum1 - a[i] + b[j]\n",
    "            s2 = sum2 - b[j] + a[i]\n",
    "           \n",
    "            if s1 == s2:\n",
    "                return 1\n",
    "            if s1 > s2:\n",
    "                j -= 1\n",
    "            else:\n",
    "                i -= 1\n",
    "       \n",
    "        return -1\n",
    "n = 6\n",
    "m = 4\n",
    "a = [4, 1, 2, 1, 1, 2]\n",
    "b = [3, 6, 3, 3]\n",
    "x=Solution()\n",
    "x.findSwapValues(a, n, b, m)\n"
   ]
  },
  {
   "cell_type": "code",
   "execution_count": null,
   "id": "c7360ed7",
   "metadata": {},
   "outputs": [],
   "source": []
  }
 ],
 "metadata": {
  "kernelspec": {
   "display_name": "Python 3 (ipykernel)",
   "language": "python",
   "name": "python3"
  },
  "language_info": {
   "codemirror_mode": {
    "name": "ipython",
    "version": 3
   },
   "file_extension": ".py",
   "mimetype": "text/x-python",
   "name": "python",
   "nbconvert_exporter": "python",
   "pygments_lexer": "ipython3",
   "version": "3.9.12"
  }
 },
 "nbformat": 4,
 "nbformat_minor": 5
}
