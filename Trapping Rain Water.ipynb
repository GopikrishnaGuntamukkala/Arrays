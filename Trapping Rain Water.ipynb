{
 "cells": [
  {
   "cell_type": "markdown",
   "id": "135d7480",
   "metadata": {},
   "source": [
    "# Given an array arr[] of N non-negative integers representing the height of blocks. If width of each block is 1, compute how much water can be trapped between the blocks during the rainy season. "
   ]
  },
  {
   "cell_type": "markdown",
   "id": "8968533e",
   "metadata": {},
   "source": [
    "## Example\n",
    "Input:\n",
    "\n",
    "N = 4\n",
    "\n",
    "arr[] = {7,4,0,9}\n",
    "\n",
    "Output:\n",
    "\n",
    "10\n",
    "\n",
    "Explanation:\n",
    "\n",
    "Water trapped by above \n",
    "\n",
    "block of height 4 is 3 units and above \n",
    "\n",
    "block of height 0 is 7 units. So, the \n",
    "\n",
    "total unit of water trapped is 10 units."
   ]
  },
  {
   "cell_type": "code",
   "execution_count": 3,
   "id": "6a4f6001",
   "metadata": {},
   "outputs": [
    {
     "data": {
      "text/plain": [
       "10"
      ]
     },
     "execution_count": 3,
     "metadata": {},
     "output_type": "execute_result"
    }
   ],
   "source": [
    "\n",
    "class Solution:\n",
    "    def trappingWater(self, arr,n):\n",
    "        #Code here\n",
    "\t    left = [0]*n\n",
    "\t    right = [0]*n\n",
    "\t# Initialize result\n",
    "\t    water = 0\n",
    "\t# Fill left array\n",
    "\t    left[0] = arr[0]\n",
    "\t    for i in range( 1, n):\n",
    "\t\t    left[i] = max(left[i-1], arr[i])\n",
    "\t# Fill right array\n",
    "\t    right[n-1] = arr[n-1]\n",
    "\t    for i in range(n-2, -1, -1):\n",
    "\t\t    right[i] = max(right[i + 1], arr[i]);\n",
    "\n",
    "\t# Calculate the accumulated water element by element\n",
    "\t# consider the amount of water on i'th bar, the\n",
    "\t# amount of water accumulated on this particular\n",
    "\t# bar will be equal to min(left[i], right[i]) - arr[i] .\n",
    "\t    for i in range(0, n):\n",
    "\t\t    water += (min(left[i], right[i]) - arr[i])\n",
    "\n",
    "\t    return water\n",
    "arr=[7,4,0,9]\n",
    "n=len(arr) #length of an array\n",
    "\n",
    "s=Solution() #Creating an object\n",
    "s.trappingWater(arr,n) #Calling the function"
   ]
  },
  {
   "cell_type": "code",
   "execution_count": null,
   "id": "d38e8452",
   "metadata": {},
   "outputs": [],
   "source": []
  }
 ],
 "metadata": {
  "kernelspec": {
   "display_name": "Python 3 (ipykernel)",
   "language": "python",
   "name": "python3"
  },
  "language_info": {
   "codemirror_mode": {
    "name": "ipython",
    "version": 3
   },
   "file_extension": ".py",
   "mimetype": "text/x-python",
   "name": "python",
   "nbconvert_exporter": "python",
   "pygments_lexer": "ipython3",
   "version": "3.9.12"
  }
 },
 "nbformat": 4,
 "nbformat_minor": 5
}
