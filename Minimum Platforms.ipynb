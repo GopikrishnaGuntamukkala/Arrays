{
 "cells": [
  {
   "cell_type": "markdown",
   "id": "84106ec7",
   "metadata": {},
   "source": [
    "# Given arrival and departure times of all trains that reach a railway station. Find the minimum number of platforms required for the railway station so that no train is kept waiting.\n",
    "Consider that all the trains arrive on the same day and leave on the same day. Arrival and departure time can never be the same for a train but we can have arrival time of one train equal to departure time of the other. At any given instance of time, same platform can not be used for both departure of a train and arrival of another train. In such cases, we need different platforms."
   ]
  },
  {
   "cell_type": "markdown",
   "id": "be50de17",
   "metadata": {},
   "source": [
    "n = 6 \n",
    "\n",
    "arr[] = {0900, 0940, 0950, 1100, 1500, 1800}\n",
    "\n",
    "dep[] = {0910, 1200, 1120, 1130, 1900, 2000}\n",
    "\n",
    "Output: 3\n",
    "\n",
    "Explanation: \n",
    "\n",
    "Minimum 3 platforms are required to \n",
    "safely arrive and depart all trains."
   ]
  },
  {
   "cell_type": "markdown",
   "id": "a243ec11",
   "metadata": {},
   "source": [
    "n = 3\n",
    "\n",
    "arr[] = {0900, 1100, 1235}\n",
    "\n",
    "dep[] = {1000, 1200, 1240}\n",
    "\n",
    "Output: 1\n",
    "\n",
    "Explanation: \n",
    "    \n",
    "Only 1 platform is required to \n",
    "safely manage the arrival and departure \n",
    "of all trains. "
   ]
  },
  {
   "cell_type": "code",
   "execution_count": 2,
   "id": "6b640a99",
   "metadata": {},
   "outputs": [
    {
     "data": {
      "text/plain": [
       "3"
      ]
     },
     "execution_count": 2,
     "metadata": {},
     "output_type": "execute_result"
    }
   ],
   "source": [
    "class Solution:    \n",
    "    #Function to find the minimum number of platforms required at the\n",
    "    #railway station such that no train waits.\n",
    "    def minimumPlatform(self,n,arr,dep):\n",
    "        # code here\n",
    "        arr.sort() #sorting the both arrays(dept and arrival)\n",
    "        dep.sort()\n",
    "        temp=0\n",
    "        j=0\n",
    "        for i in range(n):\n",
    "            if arr[i]>dep[j]: #if arival>dept\n",
    "                j+=1\n",
    "            else:\n",
    "                temp+=1\n",
    "        return temp\n",
    "arr=[900, 940,950, 1100, 1500, 1800]\n",
    "dep=[910, 1200, 1120, 1130, 1900, 2000]\n",
    "n=6\n",
    "x=Solution()\n",
    "x.minimumPlatform(n,arr,dep)"
   ]
  },
  {
   "cell_type": "code",
   "execution_count": null,
   "id": "98c6dd01",
   "metadata": {},
   "outputs": [],
   "source": []
  }
 ],
 "metadata": {
  "kernelspec": {
   "display_name": "Python 3 (ipykernel)",
   "language": "python",
   "name": "python3"
  },
  "language_info": {
   "codemirror_mode": {
    "name": "ipython",
    "version": 3
   },
   "file_extension": ".py",
   "mimetype": "text/x-python",
   "name": "python",
   "nbconvert_exporter": "python",
   "pygments_lexer": "ipython3",
   "version": "3.9.12"
  }
 },
 "nbformat": 4,
 "nbformat_minor": 5
}
