{
 "cells": [
  {
   "cell_type": "markdown",
   "id": "55fcfc23",
   "metadata": {},
   "source": [
    "# Given an unsorted array A of size N that contains only non-negative integers, find a continuous sub-array which adds to a given number S.\n",
    "\n",
    "In case of multiple subarrays, return the subarray which comes first on moving from left to right."
   ]
  },
  {
   "cell_type": "markdown",
   "id": "1baad353",
   "metadata": {},
   "source": [
    "N = 5, S = 12\n",
    "\n",
    "A[] = {1,2,3,7,5}\n",
    "\n",
    "Output: 2 4\n",
    "\n",
    "Explanation: The sum of elements \n",
    "from 2nd position to 4th position \n",
    "is 12."
   ]
  },
  {
   "cell_type": "code",
   "execution_count": 3,
   "id": "7d1aaeb8",
   "metadata": {},
   "outputs": [
    {
     "name": "stdout",
     "output_type": "stream",
     "text": [
      "Sum found between indexes\n",
      " 1 and  4\n"
     ]
    },
    {
     "data": {
      "text/plain": [
       "1"
      ]
     },
     "execution_count": 3,
     "metadata": {},
     "output_type": "execute_result"
    }
   ],
   "source": [
    "# An efficient program to print subarray with sum as given sum\n",
    "\n",
    "# Returns true if the\n",
    "# there is a subarray\n",
    "# of arr[] with sum\n",
    "# equal to 'sum'\n",
    "# otherwise returns\n",
    "# false. Also, prints\n",
    "# the result.\n",
    "def subArraySum(arr, n, sum_):\n",
    "\t\n",
    "\t# Initialize curr_sum as value of first element and starting point as 0\n",
    "\tcurr_sum = arr[0]\n",
    "\tstart = 0\n",
    "\n",
    "\t# Add elements one by one to curr_sum and\n",
    "\t# if the curr_sum exceeds the sum, then remove starting element\n",
    "\ti = 1\n",
    "\twhile i <= n:\n",
    "\t\t\n",
    "\t\t# If curr_sum exceeds\n",
    "\t\t# the sum, then remove\n",
    "\t\t# the starting elements\n",
    "\t\twhile curr_sum > sum_ and start < i-1:\n",
    "\t\t\n",
    "\t\t\tcurr_sum = curr_sum - arr[start]\n",
    "\t\t\tstart += 1\n",
    "\t\t\t\n",
    "\t\t# If curr_sum becomes\n",
    "\t\t# equal to sum, then\n",
    "\t\t# return true\n",
    "\t\tif curr_sum == sum_:\n",
    "\t\t\tprint (\"Sum found between indexes\")\n",
    "\t\t\tprint (\"% d and % d\"%(start, i-1))\n",
    "\t\t\treturn 1\n",
    "\n",
    "\t\t# Add this element\n",
    "\t\t# to curr_sum\n",
    "\t\tif i < n:\n",
    "\t\t\tcurr_sum = curr_sum + arr[i]\n",
    "\t\ti += 1\n",
    "\n",
    "\t# If we reach here,\n",
    "\t# then no subarray\n",
    "\tprint (\"No subarray found\")\n",
    "\treturn 0\n",
    "\n",
    "# Driver program\n",
    "arr = [15, 2, 4, 8, 9, 5, 10, 23]\n",
    "n = len(arr)\n",
    "sum_ = 23\n",
    "\n",
    "subArraySum(arr, n, sum_)\n",
    "\n",
    "# This code is Contributed by shreyanshi_arun.\n"
   ]
  },
  {
   "cell_type": "code",
   "execution_count": null,
   "id": "57de7588",
   "metadata": {},
   "outputs": [],
   "source": []
  }
 ],
 "metadata": {
  "kernelspec": {
   "display_name": "Python 3 (ipykernel)",
   "language": "python",
   "name": "python3"
  },
  "language_info": {
   "codemirror_mode": {
    "name": "ipython",
    "version": 3
   },
   "file_extension": ".py",
   "mimetype": "text/x-python",
   "name": "python",
   "nbconvert_exporter": "python",
   "pygments_lexer": "ipython3",
   "version": "3.9.12"
  }
 },
 "nbformat": 4,
 "nbformat_minor": 5
}
