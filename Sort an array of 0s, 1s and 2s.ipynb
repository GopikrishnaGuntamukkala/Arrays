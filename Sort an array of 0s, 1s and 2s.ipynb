{
 "cells": [
  {
   "cell_type": "markdown",
   "id": "2a0a6703",
   "metadata": {},
   "source": [
    "# Given an array of size N containing only 0s, 1s, and 2s; sort the array in ascending order."
   ]
  },
  {
   "cell_type": "markdown",
   "id": "a2289da9",
   "metadata": {},
   "source": [
    "N = 5\n",
    "\n",
    "arr[]= {0 2 1 2 0}\n",
    "\n",
    "Output:\n",
    "0 0 1 2 2\n",
    "\n",
    "Explanation:\n",
    "0s 1s and 2s are segregated \n",
    "into ascending order."
   ]
  },
  {
   "cell_type": "code",
   "execution_count": 1,
   "id": "5b323b70",
   "metadata": {},
   "outputs": [
    {
     "data": {
      "text/plain": [
       "[0, 0, 1, 1, 2, 2]"
      ]
     },
     "execution_count": 1,
     "metadata": {},
     "output_type": "execute_result"
    }
   ],
   "source": [
    "class Solution:\n",
    "    def sort012(self,arr,n):\n",
    "        # code here\n",
    "        c1=0\n",
    "        c2=0\n",
    "        c3=0\n",
    "        for i in range(n):\n",
    "            if arr[i]==0:\n",
    "                c1+=1\n",
    "            elif arr[i]==1:\n",
    "                c2+=1\n",
    "            elif arr[i]==2:\n",
    "                c3+=1\n",
    "        for i in range(n):\n",
    "            if c1>0:\n",
    "                arr[i]=0\n",
    "                c1-=1\n",
    "            elif c2>0:\n",
    "                arr[i]=1\n",
    "                c2-=1\n",
    "            elif c3>0:\n",
    "                arr[i]=2\n",
    "                c3-=1\n",
    "        return arr\n",
    "arr=[0,1,1,2,0,2]\n",
    "n=len(arr)\n",
    "x=Solution()\n",
    "x.sort012(arr, n)\n"
   ]
  },
  {
   "cell_type": "code",
   "execution_count": null,
   "id": "a96a98c6",
   "metadata": {},
   "outputs": [],
   "source": []
  }
 ],
 "metadata": {
  "kernelspec": {
   "display_name": "Python 3 (ipykernel)",
   "language": "python",
   "name": "python3"
  },
  "language_info": {
   "codemirror_mode": {
    "name": "ipython",
    "version": 3
   },
   "file_extension": ".py",
   "mimetype": "text/x-python",
   "name": "python",
   "nbconvert_exporter": "python",
   "pygments_lexer": "ipython3",
   "version": "3.9.12"
  }
 },
 "nbformat": 4,
 "nbformat_minor": 5
}
