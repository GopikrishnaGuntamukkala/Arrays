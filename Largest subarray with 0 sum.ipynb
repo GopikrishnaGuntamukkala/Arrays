{
 "cells": [
  {
   "cell_type": "markdown",
   "id": "1533b406",
   "metadata": {},
   "source": [
    "# Given an array having both positive and negative integers. The task is to compute the length of the largest subarray with sum 0.\n",
    "\n",
    "Example 1:\n",
    "\n"
   ]
  },
  {
   "cell_type": "markdown",
   "id": "bacbf402",
   "metadata": {},
   "source": [
    "N = 8\n",
    "\n",
    "A[] = {15,-2,2,-8,1,7,10,23}\n",
    "\n",
    "Output: 5\n",
    "\n",
    "Explanation: The largest subarray with\n",
    "sum 0 will be -2 2 -8 1 7."
   ]
  },
  {
   "cell_type": "code",
   "execution_count": 1,
   "id": "161ae7f3",
   "metadata": {},
   "outputs": [
    {
     "data": {
      "text/plain": [
       "5"
      ]
     },
     "execution_count": 1,
     "metadata": {},
     "output_type": "execute_result"
    }
   ],
   "source": [
    "class Solution:\n",
    "    def maxLen(self, n, arr):\n",
    "        #Code here\n",
    "        dic = {}\n",
    "        s = 0\n",
    "        m= 0\n",
    "        for i in range(n):\n",
    "            s = s+ arr[i]\n",
    "            if s == 0:\n",
    "                m = i+1\n",
    "            else:\n",
    "                if s in dic:\n",
    "                    m = max(m,i-dic[s])\n",
    "                else:\n",
    "                    dic[s] = i\n",
    "        return m\n",
    "arr=[15,-2,2,-8,1,7,10,23]\n",
    "n=len(arr)\n",
    "x=Solution()\n",
    "x.maxLen(n, arr)"
   ]
  },
  {
   "cell_type": "code",
   "execution_count": null,
   "id": "1f8b059c",
   "metadata": {},
   "outputs": [],
   "source": []
  }
 ],
 "metadata": {
  "kernelspec": {
   "display_name": "Python 3 (ipykernel)",
   "language": "python",
   "name": "python3"
  },
  "language_info": {
   "codemirror_mode": {
    "name": "ipython",
    "version": 3
   },
   "file_extension": ".py",
   "mimetype": "text/x-python",
   "name": "python",
   "nbconvert_exporter": "python",
   "pygments_lexer": "ipython3",
   "version": "3.9.12"
  }
 },
 "nbformat": 4,
 "nbformat_minor": 5
}
