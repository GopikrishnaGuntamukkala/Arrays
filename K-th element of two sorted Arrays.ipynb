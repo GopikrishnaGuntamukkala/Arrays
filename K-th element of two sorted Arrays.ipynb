{
 "cells": [
  {
   "cell_type": "markdown",
   "id": "3d30f33e",
   "metadata": {},
   "source": [
    "# Given two sorted arrays arr1 and arr2 of size N and M respectively and an element K. The task is to find the element that would be at the k’th position of the final sorted array."
   ]
  },
  {
   "cell_type": "markdown",
   "id": "c575c6ab",
   "metadata": {},
   "source": [
    "arr1[] = {2, 3, 6, 7, 9}\n",
    "\n",
    "arr2[] = {1, 4, 8, 10}\n",
    "\n",
    "k = 5\n",
    "\n",
    "Output:\n",
    "6\n",
    "\n",
    "Explanation:\n",
    "\n",
    "The final sorted array would be -\n",
    "1, 2, 3, 4, 6, 7, 8, 9, 10\n",
    "\n",
    "The 5th element of this array is 6."
   ]
  },
  {
   "cell_type": "code",
   "execution_count": 2,
   "id": "912951b9",
   "metadata": {},
   "outputs": [
    {
     "name": "stdout",
     "output_type": "stream",
     "text": [
      "enter the kth position in an array : 5\n"
     ]
    },
    {
     "data": {
      "text/plain": [
       "6"
      ]
     },
     "execution_count": 2,
     "metadata": {},
     "output_type": "execute_result"
    }
   ],
   "source": [
    "\n",
    "class Solution:\n",
    "    def kthElement(self,  arr1, arr2, n, m, k):\n",
    "        arr=arr1+arr2\n",
    "        arr.sort()\n",
    "        x=arr[k-1]\n",
    "        return x\n",
    "arr1=[2,3,6,7,9]\n",
    "arr2=[1,4,8,10]\n",
    "n=len(arr1)\n",
    "m=len(arr2)\n",
    "k=int(input(\"enter the kth position in an array : \"))\n",
    "arr=[]\n",
    "x=Solution()\n",
    "x.kthElement(arr1, arr2, n, m, k)"
   ]
  },
  {
   "cell_type": "code",
   "execution_count": null,
   "id": "5db1df30",
   "metadata": {},
   "outputs": [],
   "source": []
  }
 ],
 "metadata": {
  "kernelspec": {
   "display_name": "Python 3 (ipykernel)",
   "language": "python",
   "name": "python3"
  },
  "language_info": {
   "codemirror_mode": {
    "name": "ipython",
    "version": 3
   },
   "file_extension": ".py",
   "mimetype": "text/x-python",
   "name": "python",
   "nbconvert_exporter": "python",
   "pygments_lexer": "ipython3",
   "version": "3.9.12"
  }
 },
 "nbformat": 4,
 "nbformat_minor": 5
}
