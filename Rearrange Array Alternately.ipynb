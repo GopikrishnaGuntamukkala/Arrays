{
 "cells": [
  {
   "cell_type": "markdown",
   "id": "747b3d2f",
   "metadata": {},
   "source": [
    "# Given a sorted array of positive integers. Your task is to rearrange  the array elements alternatively i.e first element should be max value, second should be min value, third should be second max, fourth should be second min and so on.\n",
    "Note: Modify the original array itself."
   ]
  },
  {
   "cell_type": "markdown",
   "id": "34fe6ee9",
   "metadata": {},
   "source": [
    "N = 6\n",
    "\n",
    "arr[] = {1,2,3,4,5,6}\n",
    "\n",
    "Output: 6 1 5 2 4 3\n",
    "\n",
    "Explanation: Max element = 6, min = 1, \n",
    "\n",
    "second max = 5, second min = 2, and \n",
    "\n",
    "so on... Modified array is : 6 1 5 2 4 3."
   ]
  },
  {
   "cell_type": "code",
   "execution_count": 3,
   "id": "3269b6d7",
   "metadata": {},
   "outputs": [
    {
     "data": {
      "text/plain": [
       "[6, 1, 5, 2, 4, 3]"
      ]
     },
     "execution_count": 3,
     "metadata": {},
     "output_type": "execute_result"
    }
   ],
   "source": [
    "class Solution:\n",
    "    ##Complete this function\n",
    "    #Function to rearrange  the array elements alternately.\n",
    "    def rearrange(self,arr, n): \n",
    "        ##Your code here\n",
    "        i=0\n",
    "        j=n-1\n",
    "        ans=[]\n",
    "        while i<=j:\n",
    "            ans.append(arr[j])\n",
    "            ans.append(arr[i])\n",
    "            i+=1\n",
    "            j-=1\n",
    "        for i in range(n):\n",
    "            arr[i]=ans[i]\n",
    "        return arr\n",
    "arr=[1,2,3,4,5,6]\n",
    "n=len(arr)\n",
    "x=Solution()\n",
    "x.rearrange(arr, n)"
   ]
  },
  {
   "cell_type": "code",
   "execution_count": null,
   "id": "c93afccf",
   "metadata": {},
   "outputs": [],
   "source": []
  }
 ],
 "metadata": {
  "kernelspec": {
   "display_name": "Python 3 (ipykernel)",
   "language": "python",
   "name": "python3"
  },
  "language_info": {
   "codemirror_mode": {
    "name": "ipython",
    "version": 3
   },
   "file_extension": ".py",
   "mimetype": "text/x-python",
   "name": "python",
   "nbconvert_exporter": "python",
   "pygments_lexer": "ipython3",
   "version": "3.9.12"
  }
 },
 "nbformat": 4,
 "nbformat_minor": 5
}
