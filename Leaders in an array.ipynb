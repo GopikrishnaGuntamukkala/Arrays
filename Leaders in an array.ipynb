{
 "cells": [
  {
   "cell_type": "markdown",
   "id": "305f589f",
   "metadata": {},
   "source": [
    "# Given an array A of positive integers. Your task is to find the leaders in the array. An element of array is leader if it is greater than or equal to all the elements to its right side. The rightmost element is always a leader. \n",
    "\n",
    " "
   ]
  },
  {
   "cell_type": "markdown",
   "id": "c040a3bb",
   "metadata": {},
   "source": [
    "Input:\n",
    "\n",
    "n = 6\n",
    "\n",
    "A[] = {16,17,4,3,5,2}\n",
    "\n",
    "Output: 17 5 2\n",
    "\n",
    "\n",
    "Explanation: The first leader is 17 \n",
    "as it is greater than all the elements\n",
    "to its right.  Similarly, the next \n",
    "leader is 5. The right most element \n",
    "is always a leader so it is also \n",
    "included."
   ]
  },
  {
   "cell_type": "markdown",
   "id": "d74cff10",
   "metadata": {},
   "source": [
    "Input:\n",
    "\n",
    "n = 5\n",
    "\n",
    "A[] = {1,2,3,4,0}\n",
    "\n",
    "Output: 4 0"
   ]
  },
  {
   "cell_type": "code",
   "execution_count": 1,
   "id": "6450c992",
   "metadata": {},
   "outputs": [
    {
     "data": {
      "text/plain": [
       "[17, 5, 2]"
      ]
     },
     "execution_count": 1,
     "metadata": {},
     "output_type": "execute_result"
    }
   ],
   "source": [
    "class Solution:\n",
    "    #Function to find the leaders in the array.\n",
    "    def leaders(self, A, N):\n",
    "        #Code here\n",
    "        sol = [] #empty list\n",
    "        max = 0\n",
    "        for i in reversed(A): #reversing an array\n",
    "            if i >= max:\n",
    "                sol.append(i) #appending the element to the list\n",
    "                max = i\n",
    "        return sol[::-1] #reversing the list and return the list\n",
    "A=[16,17,4,3,5,2]\n",
    "N=len(A)\n",
    "x=Solution()\n",
    "x.leaders(A,N)"
   ]
  },
  {
   "cell_type": "code",
   "execution_count": null,
   "id": "66f582db",
   "metadata": {},
   "outputs": [],
   "source": []
  }
 ],
 "metadata": {
  "kernelspec": {
   "display_name": "Python 3 (ipykernel)",
   "language": "python",
   "name": "python3"
  },
  "language_info": {
   "codemirror_mode": {
    "name": "ipython",
    "version": 3
   },
   "file_extension": ".py",
   "mimetype": "text/x-python",
   "name": "python",
   "nbconvert_exporter": "python",
   "pygments_lexer": "ipython3",
   "version": "3.9.12"
  }
 },
 "nbformat": 4,
 "nbformat_minor": 5
}
