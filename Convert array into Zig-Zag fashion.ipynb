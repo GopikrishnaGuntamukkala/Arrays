{
 "cells": [
  {
   "cell_type": "markdown",
   "id": "36efb595",
   "metadata": {},
   "source": [
    "# Given an array Arr (distinct elements) of size N. Rearrange the elements of array in zig-zag fashion. The converted array should be in form a < b > c < d > e < f. The relative order of elements is same in the output i.e you have to iterate on the original array only."
   ]
  },
  {
   "cell_type": "markdown",
   "id": "5cd3a8fe",
   "metadata": {},
   "source": [
    "Input:\n",
    "\n",
    "N = 7\n",
    "\n",
    "Arr[] = {4, 3, 7, 8, 6, 2, 1}\n",
    "\n",
    "Output: 3 7 4 8 2 6 1\n",
    "\n",
    "Explanation: 3 < 7 > 4 < 8 > 2 < 6 > 1"
   ]
  },
  {
   "cell_type": "markdown",
   "id": "87233802",
   "metadata": {},
   "source": [
    "N = 4\n",
    "\n",
    "Arr[] = {1, 4, 3, 2}\n",
    "\n",
    "Output: 1 4 2 3\n",
    "\n",
    "Explanation: 1 < 4 > 2 < 3"
   ]
  },
  {
   "cell_type": "code",
   "execution_count": 10,
   "id": "b554fb0a",
   "metadata": {},
   "outputs": [
    {
     "data": {
      "text/plain": [
       "[3, 7, 4, 8, 2, 6, 1]"
      ]
     },
     "execution_count": 10,
     "metadata": {},
     "output_type": "execute_result"
    }
   ],
   "source": [
    "def zigzag(arr):\n",
    "    for i in range(len(arr)-1):\n",
    "        if i%2!=0: #keeping in odd position\n",
    "            if arr[i]<arr[i+1]: #checking \n",
    "                arr[i+1],arr[i]=arr[i],arr[i+1]\n",
    "        else:      #in even position index in array\n",
    "            if arr[i]>arr[i+1]:\n",
    "                arr[i],arr[i+1]=arr[i+1],arr[i]\n",
    "    return arr\n",
    "\n",
    "\n",
    "\n",
    "arr=[4,3,7,8,6,2,1]\n",
    "n=len(arr)\n",
    "zigzag(arr)"
   ]
  },
  {
   "cell_type": "code",
   "execution_count": null,
   "id": "3c1fb5cd",
   "metadata": {},
   "outputs": [],
   "source": []
  }
 ],
 "metadata": {
  "kernelspec": {
   "display_name": "Python 3 (ipykernel)",
   "language": "python",
   "name": "python3"
  },
  "language_info": {
   "codemirror_mode": {
    "name": "ipython",
    "version": 3
   },
   "file_extension": ".py",
   "mimetype": "text/x-python",
   "name": "python",
   "nbconvert_exporter": "python",
   "pygments_lexer": "ipython3",
   "version": "3.9.12"
  }
 },
 "nbformat": 4,
 "nbformat_minor": 5
}
